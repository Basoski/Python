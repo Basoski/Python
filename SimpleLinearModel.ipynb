{
  "nbformat": 4,
  "nbformat_minor": 0,
  "metadata": {
    "colab": {
      "provenance": [],
      "authorship_tag": "ABX9TyMu3Rrhw+qHzZ2UpaiWLZ/s",
      "include_colab_link": true
    },
    "kernelspec": {
      "name": "python3",
      "display_name": "Python 3"
    },
    "language_info": {
      "name": "python"
    }
  },
  "cells": [
    {
      "cell_type": "markdown",
      "metadata": {
        "id": "view-in-github",
        "colab_type": "text"
      },
      "source": [
        "<a href=\"https://colab.research.google.com/github/Basoski/Python/blob/main/SimpleLinearModel.ipynb\" target=\"_parent\"><img src=\"https://colab.research.google.com/assets/colab-badge.svg\" alt=\"Open In Colab\"/></a>"
      ]
    },
    {
      "cell_type": "code",
      "execution_count": 60,
      "metadata": {
        "id": "phavqOUocZXB"
      },
      "outputs": [],
      "source": [
        "import torch\n",
        "import torch.nn\n",
        "import matplotlib.pyplot as plt"
      ]
    },
    {
      "cell_type": "code",
      "source": [
        "torch.manual_seed(42)\n",
        "sample_size = (700,1)\n",
        "n_input = 2\n",
        "\n",
        "# Real model\n",
        "weights = torch.tensor([3.5, -1.2], dtype= torch.float32)\n",
        "bias = torch.tensor(0.7, dtype = torch.float32)\n",
        "noise = 0.3*torch.randn(sample_size)\n",
        "\n",
        "inputs = []\n",
        "for i in range(n_input):\n",
        "  inputs.append(torch.empty(sample_size).uniform_(-2,2))\n",
        "X = torch.cat([inputs[i] for i in range(n_input)], dim=1)\n",
        "\n",
        "# X.shape = (700 , 2)\n",
        "# weights = (2) --> weights.unsqueeze(1) = (2,1)\n",
        "# bias = (700,1)\n",
        "# noise = (700,1)\n",
        "# (700,2) @ (2,1) + (700,1) + (700,1) = (700,1)\n",
        "\n",
        "\n",
        "print(X.shape)\n",
        "print(weights.unsqueeze(1).shape)\n",
        "\n",
        "y = X @ weights.unsqueeze(1) + bias + noise"
      ],
      "metadata": {
        "colab": {
          "base_uri": "https://localhost:8080/"
        },
        "id": "G2N2voHNcwDG",
        "outputId": "3c4a8025-c18c-4adf-f718-c9c5ed8923ad"
      },
      "execution_count": 61,
      "outputs": [
        {
          "output_type": "stream",
          "name": "stdout",
          "text": [
            "torch.Size([700, 2])\n",
            "torch.Size([2, 1])\n"
          ]
        }
      ]
    },
    {
      "cell_type": "markdown",
      "source": [
        "## Train test split"
      ],
      "metadata": {
        "id": "Yh-oEuY8joyW"
      }
    },
    {
      "cell_type": "code",
      "source": [
        "train_split = int(0.7 * len(X))\n",
        "X_train, y_train = X[:train_split], y[:train_split]\n",
        "X_test, y_test = X[train_split:], y[train_split:]\n",
        "\n",
        "len(X_train), len(y_train), len(X_test), len(y_test)"
      ],
      "metadata": {
        "colab": {
          "base_uri": "https://localhost:8080/"
        },
        "id": "kRU137eUjuGc",
        "outputId": "4bcc4ee9-6188-4203-fc65-f98cc8436126"
      },
      "execution_count": 62,
      "outputs": [
        {
          "output_type": "execute_result",
          "data": {
            "text/plain": [
              "(489, 489, 211, 211)"
            ]
          },
          "metadata": {},
          "execution_count": 62
        }
      ]
    },
    {
      "cell_type": "markdown",
      "source": [
        "## Plot function"
      ],
      "metadata": {
        "id": "xkmI-w6Fkr8t"
      }
    },
    {
      "cell_type": "code",
      "source": [
        "def plot_ytrue_vs_ypred(y_true, y_pred):\n",
        "  yt = y_true.squeeze(-1) # squeeze will return a tensor with the dimension indicated by the input removed. In this cae, -1 means the last dimension\n",
        "  yp = y_pred.squeeze(-1)\n",
        "\n",
        "  lo = float(min(yt.min(), yp.min()))\n",
        "  hi = float(max(yt.max(), yp.max()))\n",
        "\n",
        "  plt.figure(figsize=(7,7))\n",
        "  plt.scatter(yt, yp, s=6, label=\"Predictions\")\n",
        "  plt.plot([lo,hi], [lo,hi], linewidth=1)\n",
        "  plt.xlabel=(\"y true\")\n",
        "  plt.ylabel=(\"y pred\")\n",
        "  plt.legend()\n",
        "  plt.show()"
      ],
      "metadata": {
        "id": "NHxLMvMTktlE"
      },
      "execution_count": 63,
      "outputs": []
    },
    {
      "cell_type": "markdown",
      "source": [
        "## Model definition"
      ],
      "metadata": {
        "id": "CTGi_EuWkLTw"
      }
    },
    {
      "cell_type": "code",
      "source": [
        "class SimpleLinearModel(torch.nn.Module):\n",
        "  def __init__(self, in_features = 2, out_features = 1, bias=True):\n",
        "    super().__init__()\n",
        "    self.linear = torch.nn.Linear(in_features, out_features, bias)\n",
        "\n",
        "  def forward(self, x:torch.Tensor) -> torch.Tensor:\n",
        "    return self.linear(x)\n"
      ],
      "metadata": {
        "id": "TencHsq8kNYc"
      },
      "execution_count": 64,
      "outputs": []
    },
    {
      "cell_type": "code",
      "source": [
        "model = SimpleLinearModel(2,1,bias=True)\n",
        "loss_fn = torch.nn.MSELoss()\n",
        "optimizer = torch.optim.Adam(params = model.parameters(), lr=0.05)"
      ],
      "metadata": {
        "id": "CqSUsWFdqhP0"
      },
      "execution_count": 65,
      "outputs": []
    },
    {
      "cell_type": "markdown",
      "source": [
        "## Training loop"
      ],
      "metadata": {
        "id": "OZ5S9ddzsDAi"
      }
    },
    {
      "cell_type": "code",
      "source": [
        "epochs = 500\n",
        "\n",
        "train_losses = []\n",
        "test_losses = []\n",
        "epoch_count = []\n",
        "\n",
        "for epoch in range(epochs):\n",
        "  model.train()\n",
        "\n",
        "  y_pred = model(X_train)\n",
        "\n",
        "  loss = loss_fn(y_pred, y_train)\n",
        "\n",
        "  optimizer.zero_grad()\n",
        "\n",
        "  loss.backward()\n",
        "\n",
        "  optimizer.step()\n",
        "\n",
        "  model.eval()\n",
        "\n",
        "  with torch.inference_mode():\n",
        "    y_test_pred = model(X_test)\n",
        "    loss_test = loss_fn(y_test_pred, y_test)\n",
        "\n",
        "    if epoch % 10 == 0:\n",
        "      epoch_count.append(epoch)\n",
        "      train_losses.append(loss.detach().numpy())\n",
        "      test_losses.append(loss_test.detach().numpy())\n",
        "      print(f\"Epoch: {epoch} | MSE Loss Train: {loss} | MSE Loss Test: {loss_test}\")"
      ],
      "metadata": {
        "colab": {
          "base_uri": "https://localhost:8080/"
        },
        "id": "FUV3eG1usEZN",
        "outputId": "05fc92b8-4b0b-4210-f053-75f3adf4d453"
      },
      "execution_count": 66,
      "outputs": [
        {
          "output_type": "stream",
          "name": "stdout",
          "text": [
            "Epoch: 0 | MSE Loss Train: 15.421295166015625 | MSE Loss Test: 15.969823837280273\n",
            "Epoch: 10 | MSE Loss Train: 9.987427711486816 | MSE Loss Test: 10.087449073791504\n",
            "Epoch: 20 | MSE Loss Train: 6.115053176879883 | MSE Loss Test: 6.085951328277588\n",
            "Epoch: 30 | MSE Loss Train: 3.536525011062622 | MSE Loss Test: 3.4914989471435547\n",
            "Epoch: 40 | MSE Loss Train: 1.9678179025650024 | MSE Loss Test: 1.9059339761734009\n",
            "Epoch: 50 | MSE Loss Train: 1.0550261735916138 | MSE Loss Test: 1.0086150169372559\n",
            "Epoch: 60 | MSE Loss Train: 0.5404091477394104 | MSE Loss Test: 0.5181773900985718\n",
            "Epoch: 70 | MSE Loss Train: 0.2724606990814209 | MSE Loss Test: 0.2676490843296051\n",
            "Epoch: 80 | MSE Loss Train: 0.15075452625751495 | MSE Loss Test: 0.1542278528213501\n",
            "Epoch: 90 | MSE Loss Train: 0.10412082076072693 | MSE Loss Test: 0.1096455529332161\n",
            "Epoch: 100 | MSE Loss Train: 0.08928871899843216 | MSE Loss Test: 0.09519526362419128\n",
            "Epoch: 110 | MSE Loss Train: 0.08559669554233551 | MSE Loss Test: 0.091437429189682\n",
            "Epoch: 120 | MSE Loss Train: 0.08506135642528534 | MSE Loss Test: 0.09096905589103699\n",
            "Epoch: 130 | MSE Loss Train: 0.08509989082813263 | MSE Loss Test: 0.09104061871767044\n",
            "Epoch: 140 | MSE Loss Train: 0.08511661738157272 | MSE Loss Test: 0.09101559966802597\n",
            "Epoch: 150 | MSE Loss Train: 0.0850924700498581 | MSE Loss Test: 0.09098221361637115\n",
            "Epoch: 160 | MSE Loss Train: 0.08507049083709717 | MSE Loss Test: 0.09095433354377747\n",
            "Epoch: 170 | MSE Loss Train: 0.08506035804748535 | MSE Loss Test: 0.09097637981176376\n",
            "Epoch: 180 | MSE Loss Train: 0.08505748212337494 | MSE Loss Test: 0.0909988060593605\n",
            "Epoch: 190 | MSE Loss Train: 0.08505716919898987 | MSE Loss Test: 0.09101726859807968\n",
            "Epoch: 200 | MSE Loss Train: 0.08505723625421524 | MSE Loss Test: 0.09102034568786621\n",
            "Epoch: 210 | MSE Loss Train: 0.08505722135305405 | MSE Loss Test: 0.09101854264736176\n",
            "Epoch: 220 | MSE Loss Train: 0.08505718410015106 | MSE Loss Test: 0.09101507812738419\n",
            "Epoch: 230 | MSE Loss Train: 0.08505717664957047 | MSE Loss Test: 0.09101375192403793\n",
            "Epoch: 240 | MSE Loss Train: 0.08505716919898987 | MSE Loss Test: 0.09101326763629913\n",
            "Epoch: 250 | MSE Loss Train: 0.08505716174840927 | MSE Loss Test: 0.09101328253746033\n",
            "Epoch: 260 | MSE Loss Train: 0.08505715429782867 | MSE Loss Test: 0.09101313352584839\n",
            "Epoch: 270 | MSE Loss Train: 0.08505717664957047 | MSE Loss Test: 0.0910131111741066\n",
            "Epoch: 280 | MSE Loss Train: 0.08505716174840927 | MSE Loss Test: 0.09101314097642899\n",
            "Epoch: 290 | MSE Loss Train: 0.08505716174840927 | MSE Loss Test: 0.09101322293281555\n",
            "Epoch: 300 | MSE Loss Train: 0.08505715429782867 | MSE Loss Test: 0.09101328253746033\n",
            "Epoch: 310 | MSE Loss Train: 0.08505716174840927 | MSE Loss Test: 0.09101328253746033\n",
            "Epoch: 320 | MSE Loss Train: 0.08505716174840927 | MSE Loss Test: 0.09101328253746033\n",
            "Epoch: 330 | MSE Loss Train: 0.08505716174840927 | MSE Loss Test: 0.09101328253746033\n",
            "Epoch: 340 | MSE Loss Train: 0.08505716174840927 | MSE Loss Test: 0.09101328253746033\n",
            "Epoch: 350 | MSE Loss Train: 0.08505716174840927 | MSE Loss Test: 0.09101328253746033\n",
            "Epoch: 360 | MSE Loss Train: 0.08505716174840927 | MSE Loss Test: 0.09101328253746033\n",
            "Epoch: 370 | MSE Loss Train: 0.08505716174840927 | MSE Loss Test: 0.09101328253746033\n",
            "Epoch: 380 | MSE Loss Train: 0.08505716174840927 | MSE Loss Test: 0.09101328253746033\n",
            "Epoch: 390 | MSE Loss Train: 0.08505716174840927 | MSE Loss Test: 0.09101328253746033\n",
            "Epoch: 400 | MSE Loss Train: 0.08505716174840927 | MSE Loss Test: 0.09101328253746033\n",
            "Epoch: 410 | MSE Loss Train: 0.08505716174840927 | MSE Loss Test: 0.09101328253746033\n",
            "Epoch: 420 | MSE Loss Train: 0.08505716174840927 | MSE Loss Test: 0.09101328253746033\n",
            "Epoch: 430 | MSE Loss Train: 0.08505716174840927 | MSE Loss Test: 0.09101328253746033\n",
            "Epoch: 440 | MSE Loss Train: 0.08505716174840927 | MSE Loss Test: 0.09101328253746033\n",
            "Epoch: 450 | MSE Loss Train: 0.08505716174840927 | MSE Loss Test: 0.09101328253746033\n",
            "Epoch: 460 | MSE Loss Train: 0.08505716174840927 | MSE Loss Test: 0.09101328253746033\n",
            "Epoch: 470 | MSE Loss Train: 0.08505716174840927 | MSE Loss Test: 0.09101328253746033\n",
            "Epoch: 480 | MSE Loss Train: 0.08505716174840927 | MSE Loss Test: 0.09101328253746033\n",
            "Epoch: 490 | MSE Loss Train: 0.08505716174840927 | MSE Loss Test: 0.09101328253746033\n"
          ]
        }
      ]
    },
    {
      "cell_type": "markdown",
      "source": [
        "## Loss plot"
      ],
      "metadata": {
        "id": "kNftjR04tpYR"
      }
    },
    {
      "cell_type": "code",
      "source": [
        "plt.plot(epoch_count, train_losses, label=\"Train Loss\")\n",
        "plt.plot(epoch_count, test_losses, label =\"Test Loss\")\n",
        "plt.title(\"Training and test loss curves\")\n",
        "plt.xlabel(\"Epochs\")\n",
        "plt.ylabel(\"Loss\")\n",
        "plt.legend()"
      ],
      "metadata": {
        "colab": {
          "base_uri": "https://localhost:8080/",
          "height": 489
        },
        "id": "nwv9QgCdtqu7",
        "outputId": "dd0408aa-537d-4923-deb1-49fe403eb492"
      },
      "execution_count": 68,
      "outputs": [
        {
          "output_type": "execute_result",
          "data": {
            "text/plain": [
              "<matplotlib.legend.Legend at 0x7f260d1be540>"
            ]
          },
          "metadata": {},
          "execution_count": 68
        },
        {
          "output_type": "display_data",
          "data": {
            "text/plain": [
              "<Figure size 640x480 with 1 Axes>"
            ],
            "image/png": "[encoded data removed]"
          },
          "metadata": {}
        }
      ]
    },
    {
      "cell_type": "code",
      "source": [
        "print(f\"Real parameters: w1 = 3.5, w2 = -1.2, b = 0.7\")\n",
        "print(f\"Learned parameters: {model.state_dict()}\")\n"
      ],
      "metadata": {
        "colab": {
          "base_uri": "https://localhost:8080/"
        },
        "id": "ox0_D4SsuRR3",
        "outputId": "05800bd2-fcd9-4170-d782-4d4abb71c716"
      },
      "execution_count": 70,
      "outputs": [
        {
          "output_type": "stream",
          "name": "stdout",
          "text": [
            "Learned parameters: OrderedDict({'linear.weight': tensor([[ 3.5002, -1.2029]]), 'linear.bias': tensor([0.7100])})\n"
          ]
        }
      ]
    },
    {
      "cell_type": "code",
      "source": [
        "model.eval()\n",
        "\n",
        "with torch.inference_mode():\n",
        "  y_preds = model(X_test)\n",
        "\n",
        "plot_ytrue_vs_ypred(y_test, y_preds)"
      ],
      "metadata": {
        "colab": {
          "base_uri": "https://localhost:8080/",
          "height": 601
        },
        "id": "YA6S9NfauqcZ",
        "outputId": "986af663-1539-4235-e549-e6517afe32c9"
      },
      "execution_count": 71,
      "outputs": [
        {
          "output_type": "display_data",
          "data": {
            "text/plain": [
              "<Figure size 700x700 with 1 Axes>"
            ],
            "image/png": "[encoded data removed]"
          },
          "metadata": {}
        }
      ]
    }
  ]
}